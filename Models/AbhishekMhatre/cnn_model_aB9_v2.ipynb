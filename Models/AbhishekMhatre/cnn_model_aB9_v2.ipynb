{
 "cells": [
  {
   "cell_type": "markdown",
   "metadata": {},
   "source": [
    "\"\"\"\n",
    "                          \n",
    "    FileName:   cnn_model_aB9_v2       \n",
    "    Date:       05/03/18 10:35 M   \n",
    "    Author:     aB9           \n",
    "                                \n",
    "\"\"\""
   ]
  },
  {
   "cell_type": "code",
   "execution_count": 1,
   "metadata": {},
   "outputs": [
    {
     "name": "stderr",
     "output_type": "stream",
     "text": [
      "/usr/local/lib/python2.7/dist-packages/h5py/__init__.py:36: FutureWarning: Conversion of the second argument of issubdtype from `float` to `np.floating` is deprecated. In future, it will be treated as `np.float64 == np.dtype(float).type`.\n",
      "  from ._conv import register_converters as _register_converters\n",
      "Using TensorFlow backend.\n"
     ]
    }
   ],
   "source": [
    "# Import libraries\n",
    "import os, shutil\n",
    "\n",
    "from keras import models, optimizers\n",
    "from keras import layers\n",
    "import pandas as pd\n",
    "from keras.preprocessing.image import ImageDataGenerator\n",
    "from keras.preprocessing import image\n",
    "import matplotlib.pyplot as plt\n",
    "# import numba\n",
    "\n",
    "import numpy as np\n",
    "\n",
    "import tensorflow as tf"
   ]
  },
  {
   "cell_type": "code",
   "execution_count": 2,
   "metadata": {},
   "outputs": [
    {
     "name": "stdout",
     "output_type": "stream",
     "text": [
      "/workspace/dataset\n"
     ]
    }
   ],
   "source": [
    "# Directories\n",
    "base_dir = os.path.normpath(os.getcwd() + os.sep + os.pardir+ os.sep + os.pardir)\n",
    "\n",
    "dataset = os.path.join(base_dir,'dataset')\n",
    "dataset_train =  os.path.join(dataset,'Training_Data')\n",
    "dataset_test =  os.path.join(dataset,'Test_Data')\n",
    "train_waterbodies = os.path.join(dataset_train,'water')\n",
    "train_no_waterbodies =os.path.join(dataset_train,'waterless')\n",
    "test_waterbodies = os.path.join(dataset_test, 'water')\n",
    "test_no_waterbodies = os.path.join(dataset_test,  'waterless')\n",
    "\n",
    "print(dataset)"
   ]
  },
  {
   "cell_type": "code",
   "execution_count": 3,
   "metadata": {},
   "outputs": [],
   "source": [
    "# #Data Augmentation config\n",
    "# datagen = ImageDataGenerator(rotation_range=45, width_shift_range=0.2, height_shift_range=0.2, shear_range=0.2, zoom_range=0.2,horizontal_flip=True, fill_mode='nearest')"
   ]
  },
  {
   "cell_type": "code",
   "execution_count": 4,
   "metadata": {
    "scrolled": true
   },
   "outputs": [
    {
     "name": "stdout",
     "output_type": "stream",
     "text": [
      "_________________________________________________________________\n",
      "Layer (type)                 Output Shape              Param #   \n",
      "=================================================================\n",
      "conv2d_1 (Conv2D)            (None, 62, 62, 32)        896       \n",
      "_________________________________________________________________\n",
      "max_pooling2d_1 (MaxPooling2 (None, 31, 31, 32)        0         \n",
      "_________________________________________________________________\n",
      "conv2d_2 (Conv2D)            (None, 29, 29, 64)        18496     \n",
      "_________________________________________________________________\n",
      "max_pooling2d_2 (MaxPooling2 (None, 14, 14, 64)        0         \n",
      "_________________________________________________________________\n",
      "conv2d_3 (Conv2D)            (None, 12, 12, 128)       73856     \n",
      "_________________________________________________________________\n",
      "max_pooling2d_3 (MaxPooling2 (None, 6, 6, 128)         0         \n",
      "_________________________________________________________________\n",
      "conv2d_4 (Conv2D)            (None, 4, 4, 128)         147584    \n",
      "_________________________________________________________________\n",
      "max_pooling2d_4 (MaxPooling2 (None, 2, 2, 128)         0         \n",
      "_________________________________________________________________\n",
      "flatten_1 (Flatten)          (None, 512)               0         \n",
      "_________________________________________________________________\n",
      "dropout_1 (Dropout)          (None, 512)               0         \n",
      "_________________________________________________________________\n",
      "dense_1 (Dense)              (None, 512)               262656    \n",
      "_________________________________________________________________\n",
      "dropout_2 (Dropout)          (None, 512)               0         \n",
      "_________________________________________________________________\n",
      "dense_2 (Dense)              (None, 1)                 513       \n",
      "=================================================================\n",
      "Total params: 504,001\n",
      "Trainable params: 504,001\n",
      "Non-trainable params: 0\n",
      "_________________________________________________________________\n"
     ]
    }
   ],
   "source": [
    "# Creating the model (Sequential)\n",
    "model = models.Sequential()\n",
    "model.add(layers.Conv2D(32, (3, 3), input_shape=(64, 64, 3), activation='relu'))\n",
    "model.add(layers.MaxPooling2D((2, 2)))\n",
    "model.add(layers.Conv2D(64, (3, 3), activation='relu'))\n",
    "model.add(layers.MaxPooling2D((2, 2)))\n",
    "model.add(layers.Conv2D(128, (3, 3), activation='relu'))\n",
    "model.add(layers.MaxPooling2D((2, 2)))\n",
    "model.add(layers.Conv2D(128, (3, 3), activation='relu'))\n",
    "model.add(layers.MaxPooling2D((2, 2)))\n",
    "\n",
    "# Flatten the network\n",
    "model.add(layers.Flatten())\n",
    "model.add(layers.Dropout(0.5))\n",
    "model.add(layers.Dense(512, activation='relu'))\n",
    "model.add(layers.Dropout(0.5))\n",
    "model.add(layers.Dense(1, activation='sigmoid'))\n",
    "\n",
    "model.summary()"
   ]
  },
  {
   "cell_type": "code",
   "execution_count": 5,
   "metadata": {},
   "outputs": [],
   "source": [
    "# Configure model for training\n",
    "model.compile(loss='binary_crossentropy', optimizer=optimizers.RMSprop(lr=1e-4), metrics=['acc'])\n"
   ]
  },
  {
   "cell_type": "code",
   "execution_count": 6,
   "metadata": {},
   "outputs": [
    {
     "name": "stdout",
     "output_type": "stream",
     "text": [
      "Found 1429 images belonging to 2 classes.\n",
      "Found 358 images belonging to 2 classes.\n"
     ]
    }
   ],
   "source": [
    "# Adding Data Augmentation\n",
    "train_datagen = ImageDataGenerator(rescale=1./255, rotation_range=45, width_shift_range=0.2, height_shift_range=0.2, shear_range=0.2, zoom_range=0.2, horizontal_flip=True, fill_mode='nearest')\n",
    "\n",
    "validation_datagen = ImageDataGenerator(rescale=1./255)\n",
    "\n",
    "train_generator = train_datagen.flow_from_directory(dataset_train, target_size=(64,64), batch_size=32, class_mode='binary')\n",
    "\n",
    "validation_generator = validation_datagen.flow_from_directory(dataset_test, target_size=(64,64), batch_size=32, class_mode='binary')"
   ]
  },
  {
   "cell_type": "code",
   "execution_count": null,
   "metadata": {},
   "outputs": [
    {
     "name": "stdout",
     "output_type": "stream",
     "text": [
      "Epoch 1/100\n",
      "100/100 [==============================] - 205s 2s/step - loss: 0.5931 - acc: 0.7152 - val_loss: 0.5829 - val_acc: 0.6745\n",
      "Epoch 2/100\n",
      "100/100 [==============================] - 143s 1s/step - loss: 0.5515 - acc: 0.7357 - val_loss: 0.5577 - val_acc: 0.7326\n",
      "Epoch 3/100\n",
      "100/100 [==============================] - 132s 1s/step - loss: 0.5184 - acc: 0.7655 - val_loss: 0.5405 - val_acc: 0.7453\n",
      "Epoch 4/100\n",
      "100/100 [==============================] - 131s 1s/step - loss: 0.4744 - acc: 0.7912 - val_loss: 0.6049 - val_acc: 0.7213\n",
      "Epoch 5/100\n",
      "100/100 [==============================] - 196s 2s/step - loss: 0.4626 - acc: 0.8107 - val_loss: 0.5508 - val_acc: 0.7513\n",
      "Epoch 6/100\n",
      "100/100 [==============================] - 180s 2s/step - loss: 0.4443 - acc: 0.8210 - val_loss: 0.5864 - val_acc: 0.7660\n",
      "Epoch 7/100\n",
      "100/100 [==============================] - 169s 2s/step - loss: 0.4356 - acc: 0.8248 - val_loss: 0.5452 - val_acc: 0.7741\n",
      "Epoch 8/100\n",
      "100/100 [==============================] - 167s 2s/step - loss: 0.4080 - acc: 0.8431 - val_loss: 0.5915 - val_acc: 0.7721\n",
      "Epoch 9/100\n",
      "100/100 [==============================] - 187s 2s/step - loss: 0.3956 - acc: 0.8534 - val_loss: 0.5448 - val_acc: 0.7888\n",
      "Epoch 10/100\n",
      "100/100 [==============================] - 196s 2s/step - loss: 0.3784 - acc: 0.8596 - val_loss: 0.5815 - val_acc: 0.7854\n",
      "Epoch 11/100\n",
      "100/100 [==============================] - 183s 2s/step - loss: 0.3677 - acc: 0.8657 - val_loss: 0.5396 - val_acc: 0.7908\n",
      "Epoch 12/100\n",
      "100/100 [==============================] - 168s 2s/step - loss: 0.3573 - acc: 0.8661 - val_loss: 0.5573 - val_acc: 0.7948\n",
      "Epoch 13/100\n",
      "100/100 [==============================] - 162s 2s/step - loss: 0.3314 - acc: 0.8812 - val_loss: 0.6111 - val_acc: 0.7848\n",
      "Epoch 14/100\n",
      "100/100 [==============================] - 176s 2s/step - loss: 0.3234 - acc: 0.8825 - val_loss: 0.6028 - val_acc: 0.7961\n",
      "Epoch 15/100\n",
      "100/100 [==============================] - 2549s 25s/step - loss: 0.3202 - acc: 0.8824 - val_loss: 0.5847 - val_acc: 0.7934\n",
      "Epoch 16/100\n",
      "100/100 [==============================] - 187s 2s/step - loss: 0.3074 - acc: 0.8904 - val_loss: 0.5512 - val_acc: 0.8015\n",
      "Epoch 17/100\n",
      "100/100 [==============================] - 176s 2s/step - loss: 0.2902 - acc: 0.8967 - val_loss: 0.6424 - val_acc: 0.7761\n",
      "Epoch 18/100\n",
      "100/100 [==============================] - 160s 2s/step - loss: 0.2934 - acc: 0.8943 - val_loss: 0.6597 - val_acc: 0.7874\n",
      "Epoch 19/100\n",
      "100/100 [==============================] - 171s 2s/step - loss: 0.2831 - acc: 0.8965 - val_loss: 0.7812 - val_acc: 0.7467\n",
      "Epoch 20/100\n",
      "100/100 [==============================] - 3638s 36s/step - loss: 0.2727 - acc: 0.9017 - val_loss: 0.7041 - val_acc: 0.7627\n",
      "Epoch 21/100\n",
      " 97/100 [============================>.] - ETA: 5s - loss: 0.2769 - acc: 0.9011"
     ]
    }
   ],
   "source": [
    "#Fitting the model\n",
    "model.fit_generator(train_generator, steps_per_epoch=100, epochs=100,validation_data=validation_generator, validation_steps=50)"
   ]
  },
  {
   "cell_type": "code",
   "execution_count": null,
   "metadata": {},
   "outputs": [],
   "source": [
    "h5_dir = os.path.join(base_dir,'h5')\n",
    "model.save(h5_dir+os.sep+'cnn_model_aB9_v2.h5')"
   ]
  },
  {
   "cell_type": "code",
   "execution_count": null,
   "metadata": {},
   "outputs": [],
   "source": [
    "\n",
    "# sess = tf.Session(config=tf.ConfigProto(log_device_placement=True))\n",
    "\n",
    "# print(sess)\n"
   ]
  },
  {
   "cell_type": "code",
   "execution_count": null,
   "metadata": {},
   "outputs": [],
   "source": []
  }
 ],
 "metadata": {
  "kernelspec": {
   "display_name": "Python 2",
   "language": "python",
   "name": "python2"
  },
  "language_info": {
   "codemirror_mode": {
    "name": "ipython",
    "version": 2
   },
   "file_extension": ".py",
   "mimetype": "text/x-python",
   "name": "python",
   "nbconvert_exporter": "python",
   "pygments_lexer": "ipython2",
   "version": "2.7.12"
  }
 },
 "nbformat": 4,
 "nbformat_minor": 2
}
